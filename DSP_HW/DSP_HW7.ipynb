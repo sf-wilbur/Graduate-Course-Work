{
 "cells": [
  {
   "cell_type": "code",
   "execution_count": null,
   "metadata": {},
   "outputs": [],
   "source": [
    "import numpy as np\n",
    "import matplotlib.pyplot as plt\n",
    "import scipy as sp\n",
    "from scipy import signal\n",
    "\n",
    "x = np.array(np.ones(150))\n",
    "x = x.ravel()\n",
    "\n",
    "b,a = signal.butter(2, .1, 'low') # two pole butterworth filter \n",
    "y = signal.lfilter(b,a,x) \n",
    "plt.plot(y)"
   ]
  },
  {
   "cell_type": "markdown",
   "metadata": {},
   "source": [
    "Problem 1: \n",
    "Load the Erebus earthquake velocity signal (load\n",
    "Erebus_velocity.mat) and plot its amplitude spectrum using abs and\n",
    "fft. Make the frequency axis logarithmic and the amplitude axis\n",
    "linear. Only show frequency information from 0 Hz through Nyquist\n",
    "frequency at 20 Hz. Normalize your spectrum to a peak value of 1."
   ]
  },
  {
   "cell_type": "code",
   "execution_count": null,
   "metadata": {},
   "outputs": [],
   "source": [
    "seis = sp.loadmat('./Erebus_velocity.mat')\n",
    "print(seis.keys())\n",
    "vel = seis['vel']\n",
    "vel = vel.ravel()\n",
    "sr = 40 #sample rate in Hz"
   ]
  }
 ],
 "metadata": {
  "interpreter": {
   "hash": "bf841e00bf5dd238bf562aea73968a56f70c525eef5c8341a167f84de60195f3"
  },
  "kernelspec": {
   "display_name": "Python 3.9.7 ('MyEnv')",
   "language": "python",
   "name": "python3"
  },
  "language_info": {
   "name": "python",
   "version": "3.9.7"
  },
  "orig_nbformat": 4
 },
 "nbformat": 4,
 "nbformat_minor": 2
}
